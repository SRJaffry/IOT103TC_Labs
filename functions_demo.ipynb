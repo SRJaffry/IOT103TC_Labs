{
 "cells": [
  {
   "cell_type": "markdown",
   "metadata": {},
   "source": [
    "# Functions for Python Beginners\n",
    "### Functions are dedicate piece of code in programing that perform specific tasks\n",
    "1. Functions have <b>input argument(s)</b>.<br>\n",
    "   1a. Arguments can be scalers, vectors, lists, arrays, dictionaries etc.<br>\n",
    "   1b. There can no argument at all, single argument, or more than one argument.<br>\n",
    "2. Functions have body - In body of the function main programing code is written<br>\n",
    "   2a. The body of function alway follow the <b>same indentation (space on the left side).</b> (e.g. see the funcA below)<br>\n",
    "3. Functions may or may not return values. <br>\n",
    "   3a. When functions do not return any value, then they ends with the end of the function body.<br>\n",
    "   3b. Functions may return single value, or more than one values.<br>\n",
    "   3c. Return values can of any type, i.e. scaler, vector, list, dictionary etc.<br>\n",
    "4. When a function ends, the program that calls the function resumes from the next statement following the function call (see example below)."
   ]
  },
  {
   "cell_type": "markdown",
   "metadata": {},
   "source": [
    "## Example 1"
   ]
  },
  {
   "cell_type": "code",
   "execution_count": null,
   "metadata": {},
   "outputs": [],
   "source": [
    "## Example of function\n",
    "\n",
    "def funcA():\n",
    "    print('-->I am inside function.')\n",
    "    print('--> This function does not have any argument.')\n",
    "    print('-->Observe the space on the left. The margin space is even.')\n",
    "    print('-->This function returns a None')\n",
    "    # Return nothing\n",
    "    return None #Function ends here\n",
    "\n",
    "# Main code that calls funcA \n",
    "print('This is my function example. Understand it carefully.')\n",
    "print('-----------------\\n')\n",
    "\n",
    "# This is function definition\n",
    "funcA()\n",
    "print('\\n==>After function return, the program will reume from here.')\n",
    "    \n"
   ]
  },
  {
   "cell_type": "markdown",
   "metadata": {},
   "source": [
    "## Example 2"
   ]
  },
  {
   "cell_type": "code",
   "execution_count": null,
   "metadata": {},
   "outputs": [],
   "source": [
    "#Function definition\n",
    "def even_odd(num):\n",
    "    if num % 2 ==0:\n",
    "        print('The number is EVEN.')\n",
    "    else:\n",
    "        print('The number is ODD.')"
   ]
  },
  {
   "cell_type": "code",
   "execution_count": null,
   "metadata": {},
   "outputs": [],
   "source": [
    "number = 33\n",
    "\n",
    "print('Calling the function...\\n')\n",
    "even_odd(number)"
   ]
  },
  {
   "cell_type": "markdown",
   "metadata": {},
   "source": [
    "## Example 3"
   ]
  },
  {
   "cell_type": "code",
   "execution_count": null,
   "metadata": {},
   "outputs": [],
   "source": [
    "def mult(num1, multiplier):\n",
    "    return num1*multiplier\n",
    "\n",
    "a = 3\n",
    "b = 5\n",
    "\n",
    "print('The product of {} and {} is {}'.format(a, b, mult(a,b)))"
   ]
  },
  {
   "cell_type": "markdown",
   "metadata": {},
   "source": [
    "## Example 4"
   ]
  },
  {
   "cell_type": "code",
   "execution_count": null,
   "metadata": {},
   "outputs": [],
   "source": [
    "\n",
    "# Function to find the largest and smallest number.\n",
    "def find_extreme(L):\n",
    "    \n",
    "    import numpy as np\n",
    "    \n",
    "    smallest_num = np.inf # postivie infinity\n",
    "    largest_number = -np.inf\n",
    "    \n",
    "    for i in L:        \n",
    "        if i < smallest_num: \n",
    "            smallest_num = i\n",
    "\n",
    "        if i > largest_number: \n",
    "            largest_number = i \n",
    "\n",
    "    return smallest_num, largest_number\n",
    "\n",
    "# Function to count the zeros, positive numbers, and negative numbers\n",
    "def count_items(L):\n",
    "    \n",
    "    zero_cnt = 0\n",
    "    positive_cnt = 0\n",
    "    negative_cnt = 0\n",
    "    \n",
    "    for i in L:\n",
    "\n",
    "        # Counting numbers\n",
    "        if i == 0:\n",
    "            zero_cnt +=1 # zero_cnt = zero_cnt + 1 \n",
    "        elif i < 0 :\n",
    "            negative_cnt +=1\n",
    "        else:\n",
    "            positive_cnt +=1\n",
    "     \n",
    "    return zero_cnt, positive_cnt, negative_cnt\n"
   ]
  },
  {
   "cell_type": "code",
   "execution_count": null,
   "metadata": {},
   "outputs": [],
   "source": [
    "num_list = [10, -30, 40, 0, 100, -9, 8, 5, 6, -60, 50, 80, 7, 0, 8, -34, 0]\n",
    "\n",
    "\n",
    "z_cnt, p_cnt, n_cnt = count_items(num_list)\n",
    "\n",
    "print('Total number of Zeros are : ', z_cnt)\n",
    "print('Total number of positive numbers are : ', p_cnt)\n",
    "print('Total number of negative numbers are : ', n_cnt)\n",
    "print('------------------------------------------------------')\n",
    "print('------------------------------------------------------')\n",
    "\n",
    "\n",
    "smallest_num, largest_num = find_extreme(num_list)\n",
    "print('The smallest number in the LIST is ', smallest_num, 'and the largest number is ', largest_num)"
   ]
  }
 ],
 "metadata": {
  "kernelspec": {
   "display_name": "Python 3",
   "language": "python",
   "name": "python3"
  },
  "language_info": {
   "codemirror_mode": {
    "name": "ipython",
    "version": 3
   },
   "file_extension": ".py",
   "mimetype": "text/x-python",
   "name": "python",
   "nbconvert_exporter": "python",
   "pygments_lexer": "ipython3",
   "version": "3.8.3"
  }
 },
 "nbformat": 4,
 "nbformat_minor": 4
}
