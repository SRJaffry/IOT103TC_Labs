{
 "cells": [
  {
   "cell_type": "code",
   "execution_count": 2,
   "metadata": {},
   "outputs": [
    {
     "name": "stdout",
     "output_type": "stream",
     "text": [
      "[1 2 3]\n"
     ]
    }
   ],
   "source": [
    "import numpy as np\n",
    "\n",
    "a = np.array([1,2,3])\n",
    "print(a)"
   ]
  },
  {
   "cell_type": "code",
   "execution_count": 3,
   "metadata": {},
   "outputs": [
    {
     "data": {
      "text/plain": [
       "array([0., 0., 0., 0., 0., 0., 0., 0., 0., 0.])"
      ]
     },
     "execution_count": 3,
     "metadata": {},
     "output_type": "execute_result"
    }
   ],
   "source": [
    "z = np.zeros(10)\n",
    "z"
   ]
  },
  {
   "cell_type": "code",
   "execution_count": 5,
   "metadata": {},
   "outputs": [
    {
     "data": {
      "text/plain": [
       "array([[1., 1., 1., 1.],\n",
       "       [1., 1., 1., 1.],\n",
       "       [1., 1., 1., 1.],\n",
       "       [1., 1., 1., 1.]])"
      ]
     },
     "execution_count": 5,
     "metadata": {},
     "output_type": "execute_result"
    }
   ],
   "source": [
    "# Shape of the array is 4x4, then we write the shape in (4,4)\n",
    "arr = np.ones((4,4))\n",
    "arr"
   ]
  },
  {
   "cell_type": "code",
   "execution_count": 6,
   "metadata": {},
   "outputs": [
    {
     "data": {
      "text/plain": [
       "numpy.ndarray"
      ]
     },
     "execution_count": 6,
     "metadata": {},
     "output_type": "execute_result"
    }
   ],
   "source": [
    "type(arr)"
   ]
  },
  {
   "cell_type": "code",
   "execution_count": 13,
   "metadata": {},
   "outputs": [],
   "source": [
    "arr = arr.reshape(8,2)"
   ]
  },
  {
   "cell_type": "code",
   "execution_count": 14,
   "metadata": {},
   "outputs": [
    {
     "data": {
      "text/plain": [
       "array([[1., 1.],\n",
       "       [1., 1.],\n",
       "       [1., 1.],\n",
       "       [1., 1.],\n",
       "       [1., 1.],\n",
       "       [1., 1.],\n",
       "       [1., 1.],\n",
       "       [1., 1.]])"
      ]
     },
     "execution_count": 14,
     "metadata": {},
     "output_type": "execute_result"
    }
   ],
   "source": [
    "arr"
   ]
  },
  {
   "cell_type": "code",
   "execution_count": 15,
   "metadata": {
    "scrolled": true
   },
   "outputs": [
    {
     "data": {
      "text/plain": [
       "(8, 2)"
      ]
     },
     "execution_count": 15,
     "metadata": {},
     "output_type": "execute_result"
    }
   ],
   "source": [
    "arr.shape"
   ]
  },
  {
   "cell_type": "markdown",
   "metadata": {},
   "source": [
    "# Loops: \n",
    "#### In programming, loops are set of instructions that are repeated over and over again until certain condition is met.\n",
    "1. The popular loops in Python are For-Loop and While-Loop\n",
    "2. We have condition for loops, and we have body of loop\n",
    "3. The if condition-of-loop is TRUE (remember Boolean Algebra), the body of loop will execute."
   ]
  },
  {
   "cell_type": "code",
   "execution_count": 16,
   "metadata": {
    "collapsed": true
   },
   "outputs": [
    {
     "name": "stdout",
     "output_type": "stream",
     "text": [
      "0\n",
      "2\n",
      "4\n",
      "8\n",
      "16\n",
      "32\n",
      "64\n",
      "128\n"
     ]
    }
   ],
   "source": [
    "arr_2 = np.array([0,2,4,8,16,32,64,128])\n",
    "\n",
    "for i in arr_2:\n",
    "    print(i) "
   ]
  },
  {
   "cell_type": "code",
   "execution_count": 20,
   "metadata": {
    "collapsed": true
   },
   "outputs": [
    {
     "name": "stdout",
     "output_type": "stream",
     "text": [
      "0\n",
      "The body of loop does not exist\n",
      "3\n",
      "The body of loop does not exist\n",
      "6\n",
      "The body of loop does not exist\n",
      "9\n",
      "The body of loop does not exist\n",
      "12\n",
      "The body of loop does not exist\n"
     ]
    }
   ],
   "source": [
    "# Press button 'b' to insert new cell below\n",
    "\n",
    "for i in range(5):\n",
    "    print(i*3)"
   ]
  },
  {
   "cell_type": "markdown",
   "metadata": {},
   "source": [
    "# Control Statements: \n",
    "#### In programming, control statements allow the change in flow of the program.\n",
    "1. Usually, in Python programming, statements follow a sequence.\n",
    "2. The control statement enable to break that flow based on certain conditions.\n",
    "3. if-else commands are a popular example of control statement. \n",
    "4. if-else works this way: If certain condition(s) are TRUE, then perform a certain task, if that condition is FALSE then do another task\n",
    "\n",
    "   if condition is TRUE:\n",
    "      DO THIS TASK (set of instructions).\n",
    "   else:\n",
    "      DO THIS TASK (set of instructions)."
   ]
  },
  {
   "cell_type": "code",
   "execution_count": 21,
   "metadata": {},
   "outputs": [
    {
     "name": "stdout",
     "output_type": "stream",
     "text": [
      "This is an EVEN number\n"
     ]
    }
   ],
   "source": [
    "# Find if the number is an EVEN or ODD number\n",
    "\n",
    "num = 40\n",
    "\n",
    "if num%2 == 0:\n",
    "    print('This is an EVEN number')\n",
    "else:\n",
    "    print('This is an ODD number')\n"
   ]
  },
  {
   "cell_type": "code",
   "execution_count": 22,
   "metadata": {},
   "outputs": [
    {
     "name": "stdout",
     "output_type": "stream",
     "text": [
      "Total number of Zeros are :  3\n",
      "Total number of negative numbers are :  4\n",
      "Total number of positive numbers are :  10\n",
      "------------------------------------------------------\n",
      "------------------------------------------------------\n",
      "The smallest number in the LIST is  -60 and the largest number is  100\n"
     ]
    }
   ],
   "source": [
    "# Count postive, negative numbers, and zeros. Also print the smallest and largest number\n",
    "\n",
    "import numpy as np\n",
    "\n",
    "# A list of number \n",
    "\n",
    "num = [10, -30, 40, 0, 100, -9, 8, 5, 6, -60, 50, 80, 7, 0, 8, -34, 0]\n",
    "\n",
    "positive_cnt = 0\n",
    "negative_cnt = 0\n",
    "zero_cnt = 0\n",
    "\n",
    "smallest_num = np.inf # postivie infinity\n",
    "largest_number = -np.inf\n",
    "\n",
    "for i in num:\n",
    "    \n",
    "    # Counting numbers\n",
    "    if i == 0:\n",
    "        zero_cnt +=1 # zero_cnt = zero_cnt + 1 \n",
    "    elif i < 0 :\n",
    "        negative_cnt +=1\n",
    "    else:\n",
    "        positive_cnt +=1\n",
    "        \n",
    "    # Finding greater and smaller numbers\n",
    "    if i < smallest_num: \n",
    "        smallest_num = i\n",
    "    \n",
    "    if i > largest_number: \n",
    "        largest_number = i \n",
    "\n",
    "print('Total number of Zeros are : ', zero_cnt)\n",
    "print('Total number of negative numbers are : ', negative_cnt)\n",
    "print('Total number of positive numbers are : ', positive_cnt)\n",
    "print('------------------------------------------------------')\n",
    "print('------------------------------------------------------')\n",
    "print('The smallest number in the LIST is ', smallest_num, 'and the largest number is ', largest_number)"
   ]
  },
  {
   "cell_type": "code",
   "execution_count": 28,
   "metadata": {},
   "outputs": [
    {
     "name": "stdout",
     "output_type": "stream",
     "text": [
      "cnt = 1\n",
      "cnt = 3\n",
      "cnt = 5\n",
      "cnt = 7\n",
      "cnt = 9\n"
     ]
    }
   ],
   "source": [
    "cnt = 1\n",
    "\n",
    "while(1): \n",
    "    print('cnt = {}'.format(cnt))\n",
    "    cnt+=2 # cnt = cnt + 2\n",
    "    \n",
    "    if (cnt > 10):\n",
    "        break"
   ]
  }
 ],
 "metadata": {
  "kernelspec": {
   "display_name": "Python 3",
   "language": "python",
   "name": "python3"
  },
  "language_info": {
   "codemirror_mode": {
    "name": "ipython",
    "version": 3
   },
   "file_extension": ".py",
   "mimetype": "text/x-python",
   "name": "python",
   "nbconvert_exporter": "python",
   "pygments_lexer": "ipython3",
   "version": "3.8.3"
  }
 },
 "nbformat": 4,
 "nbformat_minor": 4
}
